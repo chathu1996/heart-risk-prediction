{
 "cells": [
  {
   "cell_type": "code",
   "execution_count": 1,
   "metadata": {},
   "outputs": [
    {
     "name": "stdout",
     "output_type": "stream",
     "text": [
      "[[  2.   48.  236.  ...   2.    0.    1.1]\n",
      " [  1.   48.  260.  ...   2.    1.    7. ]\n",
      " [  1.   44.  187.  ...   2.    0.    7. ]\n",
      " ...\n",
      " [  1.   65.  212.  ...   1.    0.   30.6]\n",
      " [  1.   66.  184.  ...   1.    0.   23.8]\n",
      " [  2.   45.  203.  ...   2.    0.    1. ]]\n"
     ]
    }
   ],
   "source": [
    "import pandas as pd\n",
    "\n",
    "dataset=pd.read_csv('cardio_dataset.csv').values\n",
    "print(dataset)"
   ]
  },
  {
   "cell_type": "code",
   "execution_count": 2,
   "metadata": {},
   "outputs": [
    {
     "name": "stdout",
     "output_type": "stream",
     "text": [
      "data [[  2.  48. 236. ...   0.   2.   0.]\n",
      " [  1.  48. 260. ...   0.   2.   1.]\n",
      " [  1.  44. 187. ...   1.   2.   0.]\n",
      " ...\n",
      " [  1.  65. 212. ...   1.   1.   0.]\n",
      " [  1.  66. 184. ...   0.   1.   0.]\n",
      " [  2.  45. 203. ...   0.   2.   0.]]\n",
      "target [ 1.1  7.   7.  ... 30.6 23.8  1. ]\n"
     ]
    }
   ],
   "source": [
    "data=dataset[:,0:7]\n",
    "target=dataset[:,7]\n",
    "print('data', data)\n",
    "print('target', target)"
   ]
  },
  {
   "cell_type": "code",
   "execution_count": 8,
   "metadata": {},
   "outputs": [],
   "source": [
    "from sklearn.model_selection import train_test_split\n",
    "\n",
    "train_data,test_data,train_target,test_target=train_test_split(data,target,test_size=0.1)"
   ]
  },
  {
   "cell_type": "code",
   "execution_count": 7,
   "metadata": {},
   "outputs": [
    {
     "data": {
      "text/plain": [
       "LinearRegression(copy_X=True, fit_intercept=True, n_jobs=None, normalize=False)"
      ]
     },
     "execution_count": 7,
     "metadata": {},
     "output_type": "execute_result"
    }
   ],
   "source": [
    "from sklearn.linear_model import LinearRegression\n",
    "\n",
    "model=LinearRegression()\n",
    "model.fit(train_data, train_target)"
   ]
  },
  {
   "cell_type": "code",
   "execution_count": 11,
   "metadata": {},
   "outputs": [
    {
     "name": "stdout",
     "output_type": "stream",
     "text": [
      "Coef:  [-4.99475193  0.73299934  0.02686376 -0.06843218  5.8554203  -5.28832972\n",
      " 11.19730239]\n",
      "a0:  -17.778444053527735\n"
     ]
    }
   ],
   "source": [
    "print('Coef: ',model.coef_)\n",
    "print('a0: ',model.intercept_)"
   ]
  },
  {
   "cell_type": "code",
   "execution_count": 10,
   "metadata": {},
   "outputs": [],
   "source": [
    "predicted_target=model.predict(test_data)"
   ]
  },
  {
   "cell_type": "code",
   "execution_count": 14,
   "metadata": {},
   "outputs": [
    {
     "name": "stdout",
     "output_type": "stream",
     "text": [
      "actual:  [21.9  7.7  0.4 43.9 20.8 18.7 10.   6.  22.   2.1]\n",
      "Predicted:  [31.07508185  7.47948056 -6.50474761 30.64105616 18.95363549 20.43964837\n",
      " 17.52921731  8.79657941 28.13819719  5.10996208]\n"
     ]
    }
   ],
   "source": [
    "print('actual: ',test_target[:10])\n",
    "print('Predicted: ',predicted_target[:10])"
   ]
  },
  {
   "cell_type": "code",
   "execution_count": 15,
   "metadata": {},
   "outputs": [
    {
     "name": "stdout",
     "output_type": "stream",
     "text": [
      "r2  0.7462776142373257\n"
     ]
    }
   ],
   "source": [
    "from sklearn.metrics import r2_score\n",
    "\n",
    "r2=r2_score(test_target,predicted_target)\n",
    "print('r2 ', r2)"
   ]
  },
  {
   "cell_type": "code",
   "execution_count": 16,
   "metadata": {},
   "outputs": [
    {
     "data": {
      "text/plain": [
       "['heart-risk-reg-mode.csv']"
      ]
     },
     "execution_count": 16,
     "metadata": {},
     "output_type": "execute_result"
    }
   ],
   "source": [
    "import joblib\n",
    "\n",
    "joblib.dump(model,'heart-risk-reg-mode.csv')"
   ]
  },
  {
   "cell_type": "code",
   "execution_count": null,
   "metadata": {},
   "outputs": [],
   "source": []
  }
 ],
 "metadata": {
  "kernelspec": {
   "display_name": "Python 3",
   "language": "python",
   "name": "python3"
  },
  "language_info": {
   "codemirror_mode": {
    "name": "ipython",
    "version": 3
   },
   "file_extension": ".py",
   "mimetype": "text/x-python",
   "name": "python",
   "nbconvert_exporter": "python",
   "pygments_lexer": "ipython3",
   "version": "3.7.6"
  }
 },
 "nbformat": 4,
 "nbformat_minor": 4
}
