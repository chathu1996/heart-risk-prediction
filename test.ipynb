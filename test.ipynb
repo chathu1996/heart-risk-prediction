{
 "cells": [
  {
   "cell_type": "code",
   "execution_count": 1,
   "metadata": {},
   "outputs": [
    {
     "name": "stdout",
     "output_type": "stream",
     "text": [
      "[[  2.   48.  236.  ...   2.    0.    1.1]\n",
      " [  1.   48.  260.  ...   2.    1.    7. ]\n",
      " [  1.   44.  187.  ...   2.    0.    7. ]\n",
      " ...\n",
      " [  1.   65.  212.  ...   1.    0.   30.6]\n",
      " [  1.   66.  184.  ...   1.    0.   23.8]\n",
      " [  2.   45.  203.  ...   2.    0.    1. ]]\n"
     ]
    }
   ],
   "source": [
    "import pandas as pd\n",
    "\n",
    "dataset=pd.read_csv('cardio_dataset.csv').values\n",
    "print(dataset)"
   ]
  },
  {
   "cell_type": "code",
   "execution_count": 2,
   "metadata": {},
   "outputs": [
    {
     "name": "stdout",
     "output_type": "stream",
     "text": [
      "data [[  2.  48. 236. ...   0.   2.   0.]\n",
      " [  1.  48. 260. ...   0.   2.   1.]\n",
      " [  1.  44. 187. ...   1.   2.   0.]\n",
      " ...\n",
      " [  1.  65. 212. ...   1.   1.   0.]\n",
      " [  1.  66. 184. ...   0.   1.   0.]\n",
      " [  2.  45. 203. ...   0.   2.   0.]]\n",
      "target [ 1.1  7.   7.  ... 30.6 23.8  1. ]\n"
     ]
    }
   ],
   "source": [
    "data=dataset[:,0:7]\n",
    "target=dataset[:,7]\n",
    "print('data', data)\n",
    "print('target', target)"
   ]
  },
  {
   "cell_type": "code",
   "execution_count": 3,
   "metadata": {},
   "outputs": [],
   "source": [
    "from sklearn.model_selection import train_test_split\n",
    "\n",
    "train_data,test_data,train_target,test_target=train_test_split(data,target,test_size=0.1)"
   ]
  },
  {
   "cell_type": "code",
   "execution_count": 4,
   "metadata": {},
   "outputs": [
    {
     "data": {
      "text/plain": [
       "LinearRegression(copy_X=True, fit_intercept=True, n_jobs=None, normalize=False)"
      ]
     },
     "execution_count": 4,
     "metadata": {},
     "output_type": "execute_result"
    }
   ],
   "source": [
    "from sklearn.linear_model import LinearRegression\n",
    "\n",
    "model=LinearRegression()\n",
    "model.fit(train_data, train_target)"
   ]
  },
  {
   "cell_type": "code",
   "execution_count": 5,
   "metadata": {},
   "outputs": [
    {
     "name": "stdout",
     "output_type": "stream",
     "text": [
      "Coef:  [-4.94364188  0.73756338  0.02590622 -0.06691129  5.87812818 -5.15780253\n",
      " 11.18296552]\n",
      "a0:  -18.217777596200666\n"
     ]
    }
   ],
   "source": [
    "print('Coef: ',model.coef_)\n",
    "print('a0: ',model.intercept_)"
   ]
  },
  {
   "cell_type": "code",
   "execution_count": 6,
   "metadata": {},
   "outputs": [],
   "source": [
    "predicted_target=model.predict(test_data)"
   ]
  },
  {
   "cell_type": "code",
   "execution_count": 7,
   "metadata": {},
   "outputs": [
    {
     "name": "stdout",
     "output_type": "stream",
     "text": [
      "actual:  [ 0.6 11.9 12.8  5.7  0.7  0.4  0.6  7.5  6.4  7.6]\n",
      "Predicted:  [-1.01707025 19.46543958 17.03822175  7.07669355 -0.08737612 -4.14369063\n",
      " -6.92325063 11.64688405 12.76211166 17.29822804]\n"
     ]
    }
   ],
   "source": [
    "print('actual: ',test_target[:10])\n",
    "print('Predicted: ',predicted_target[:10])"
   ]
  },
  {
   "cell_type": "code",
   "execution_count": 8,
   "metadata": {},
   "outputs": [
    {
     "name": "stdout",
     "output_type": "stream",
     "text": [
      "r2  0.7328963767294792\n"
     ]
    }
   ],
   "source": [
    "from sklearn.metrics import r2_score\n",
    "\n",
    "r2=r2_score(test_target,predicted_target)\n",
    "print('r2 ', r2)"
   ]
  },
  {
   "cell_type": "code",
   "execution_count": 9,
   "metadata": {},
   "outputs": [
    {
     "data": {
      "text/plain": [
       "['heart-risk-reg-mode.csv']"
      ]
     },
     "execution_count": 9,
     "metadata": {},
     "output_type": "execute_result"
    }
   ],
   "source": [
    "import joblib\n",
    "\n",
    "joblib.dump(model,'heart-risk-reg-mode.csv')"
   ]
  },
  {
   "cell_type": "code",
   "execution_count": null,
   "metadata": {},
   "outputs": [],
   "source": []
  }
 ],
 "metadata": {
  "kernelspec": {
   "display_name": "Python 3",
   "language": "python",
   "name": "python3"
  },
  "language_info": {
   "codemirror_mode": {
    "name": "ipython",
    "version": 3
   },
   "file_extension": ".py",
   "mimetype": "text/x-python",
   "name": "python",
   "nbconvert_exporter": "python",
   "pygments_lexer": "ipython3",
   "version": "3.7.6"
  }
 },
 "nbformat": 4,
 "nbformat_minor": 4
}
